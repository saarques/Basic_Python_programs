{
 "cells": [
  {
   "cell_type": "code",
   "execution_count": 1,
   "metadata": {},
   "outputs": [
    {
     "name": "stdout",
     "output_type": "stream",
     "text": [
      "   Gender  Age Range  Head Size(cm^3)  Brain Weight(grams)\n",
      "0       1          1             4512                 1530\n",
      "1       1          1             3738                 1297\n",
      "2       1          1             4261                 1335\n",
      "3       1          1             3777                 1282\n",
      "4       1          1             4177                 1590\n"
     ]
    },
    {
     "data": {
      "text/plain": [
       "(237, 4)"
      ]
     },
     "execution_count": 1,
     "metadata": {},
     "output_type": "execute_result"
    }
   ],
   "source": [
    "# Importing the Libraries\n",
    "import numpy as np\n",
    "import pandas as pd\n",
    "import matplotlib.pyplot as plt\n",
    "% matplotlib inline\n",
    "plt.rcParams[\"figure.figsize\"] = (20.0, 10.0)\n",
    "\n",
    "\n",
    "# Reading the database\n",
    "data = pd.read_csv(\"/home/gajendra/Github/Datasets/headbrain/headbrain.csv\")\n",
    "print(data.head())\n",
    "data.shape"
   ]
  },
  {
   "cell_type": "code",
   "execution_count": 4,
   "metadata": {},
   "outputs": [],
   "source": [
    "# Collecting X and y\n",
    "X = data[\"Head Size(cm^3)\"].values\n",
    "Y = data[\"Brain Weight(grams)\"].values"
   ]
  },
  {
   "cell_type": "code",
   "execution_count": 5,
   "metadata": {},
   "outputs": [
    {
     "name": "stdout",
     "output_type": "stream",
     "text": [
      "0.26342933948939945 325.57342104944223\n"
     ]
    }
   ],
   "source": [
    "# Calculate mean of X and y\n",
    "mean_X = np.mean(X)\n",
    "mean_Y = np.mean(Y)\n",
    "\n",
    "n = len(X)\n",
    "numerator = 0\n",
    "denominator = 0\n",
    "\n",
    "for index in range(n):\n",
    "    numerator += (mean_X - X[index]) * (mean_Y - Y[index])\n",
    "    denominator += (mean_X - X[index])**2\n",
    "\n",
    "# slope\n",
    "m = numerator/denominator\n",
    "# constant\n",
    "c = mean_Y - m * mean_X\n",
    "\n",
    "print(m, c)"
   ]
  },
  {
   "cell_type": "code",
   "execution_count": 35,
   "metadata": {},
   "outputs": [],
   "source": [
    "# Now that we have the equation of the line as \"y = mx + c\", we can now differentiate the data by putting labels on it.\n",
    "data[\"label\"] = 0"
   ]
  },
  {
   "cell_type": "code",
   "execution_count": 37,
   "metadata": {},
   "outputs": [
    {
     "data": {
      "text/html": [
       "<div>\n",
       "<style scoped>\n",
       "    .dataframe tbody tr th:only-of-type {\n",
       "        vertical-align: middle;\n",
       "    }\n",
       "\n",
       "    .dataframe tbody tr th {\n",
       "        vertical-align: top;\n",
       "    }\n",
       "\n",
       "    .dataframe thead th {\n",
       "        text-align: right;\n",
       "    }\n",
       "</style>\n",
       "<table border=\"1\" class=\"dataframe\">\n",
       "  <thead>\n",
       "    <tr style=\"text-align: right;\">\n",
       "      <th></th>\n",
       "      <th>Gender</th>\n",
       "      <th>Age Range</th>\n",
       "      <th>Head Size(cm^3)</th>\n",
       "      <th>Brain Weight(grams)</th>\n",
       "      <th>label</th>\n",
       "    </tr>\n",
       "  </thead>\n",
       "  <tbody>\n",
       "    <tr>\n",
       "      <th>217</th>\n",
       "      <td>2</td>\n",
       "      <td>2</td>\n",
       "      <td>3170</td>\n",
       "      <td>1178</td>\n",
       "      <td>1</td>\n",
       "    </tr>\n",
       "    <tr>\n",
       "      <th>128</th>\n",
       "      <td>1</td>\n",
       "      <td>2</td>\n",
       "      <td>4053</td>\n",
       "      <td>1312</td>\n",
       "      <td>0</td>\n",
       "    </tr>\n",
       "    <tr>\n",
       "      <th>138</th>\n",
       "      <td>2</td>\n",
       "      <td>1</td>\n",
       "      <td>3104</td>\n",
       "      <td>1080</td>\n",
       "      <td>0</td>\n",
       "    </tr>\n",
       "    <tr>\n",
       "      <th>148</th>\n",
       "      <td>2</td>\n",
       "      <td>1</td>\n",
       "      <td>3451</td>\n",
       "      <td>1340</td>\n",
       "      <td>1</td>\n",
       "    </tr>\n",
       "    <tr>\n",
       "      <th>71</th>\n",
       "      <td>1</td>\n",
       "      <td>2</td>\n",
       "      <td>3858</td>\n",
       "      <td>1390</td>\n",
       "      <td>1</td>\n",
       "    </tr>\n",
       "    <tr>\n",
       "      <th>6</th>\n",
       "      <td>1</td>\n",
       "      <td>1</td>\n",
       "      <td>3785</td>\n",
       "      <td>1400</td>\n",
       "      <td>1</td>\n",
       "    </tr>\n",
       "    <tr>\n",
       "      <th>114</th>\n",
       "      <td>1</td>\n",
       "      <td>2</td>\n",
       "      <td>3383</td>\n",
       "      <td>1290</td>\n",
       "      <td>1</td>\n",
       "    </tr>\n",
       "    <tr>\n",
       "      <th>205</th>\n",
       "      <td>2</td>\n",
       "      <td>2</td>\n",
       "      <td>3692</td>\n",
       "      <td>1305</td>\n",
       "      <td>1</td>\n",
       "    </tr>\n",
       "    <tr>\n",
       "      <th>79</th>\n",
       "      <td>1</td>\n",
       "      <td>2</td>\n",
       "      <td>3835</td>\n",
       "      <td>1315</td>\n",
       "      <td>0</td>\n",
       "    </tr>\n",
       "    <tr>\n",
       "      <th>69</th>\n",
       "      <td>1</td>\n",
       "      <td>2</td>\n",
       "      <td>4381</td>\n",
       "      <td>1415</td>\n",
       "      <td>0</td>\n",
       "    </tr>\n",
       "  </tbody>\n",
       "</table>\n",
       "</div>"
      ],
      "text/plain": [
       "     Gender  Age Range  Head Size(cm^3)  Brain Weight(grams)  label\n",
       "217       2          2             3170                 1178      1\n",
       "128       1          2             4053                 1312      0\n",
       "138       2          1             3104                 1080      0\n",
       "148       2          1             3451                 1340      1\n",
       "71        1          2             3858                 1390      1\n",
       "6         1          1             3785                 1400      1\n",
       "114       1          2             3383                 1290      1\n",
       "205       2          2             3692                 1305      1\n",
       "79        1          2             3835                 1315      0\n",
       "69        1          2             4381                 1415      0"
      ]
     },
     "execution_count": 37,
     "metadata": {},
     "output_type": "execute_result"
    }
   ],
   "source": [
    "for index in range(n):\n",
    "    d = 0\n",
    "    d = Y[index] - m * X[index] - c\n",
    "    if(d >= 0):\n",
    "        data[\"label\"][index] = 1\n",
    "    else:\n",
    "        pass\n",
    "\n",
    "data.sample(10)"
   ]
  },
  {
   "cell_type": "code",
   "execution_count": 38,
   "metadata": {},
   "outputs": [
    {
     "data": {
      "text/plain": [
       "array([1, 0])"
      ]
     },
     "execution_count": 38,
     "metadata": {},
     "output_type": "execute_result"
    }
   ],
   "source": [
    "data[\"label\"].unique()"
   ]
  },
  {
   "cell_type": "code",
   "execution_count": 22,
   "metadata": {},
   "outputs": [
    {
     "data": {
      "text/plain": [
       "(array([ 4., 13., 31., 50., 50., 43., 23., 14.,  8.,  1.]),\n",
       " array([2720. , 2922.7, 3125.4, 3328.1, 3530.8, 3733.5, 3936.2, 4138.9,\n",
       "        4341.6, 4544.3, 4747. ]),\n",
       " <a list of 10 Patch objects>)"
      ]
     },
     "execution_count": 22,
     "metadata": {},
     "output_type": "execute_result"
    },
    {
     "data": {
      "image/png": "[encoded data removed]",
      "text/plain": [
       "<Figure size 432x288 with 1 Axes>"
      ]
     },
     "metadata": {
      "needs_background": "light"
     },
     "output_type": "display_data"
    }
   ],
   "source": [
    "plt.hist(X, bins = 10)"
   ]
  },
  {
   "cell_type": "code",
   "execution_count": 24,
   "metadata": {},
   "outputs": [
    {
     "data": {
      "text/plain": [
       "(array([ 3.,  9., 20., 45., 53., 55., 27., 12.,  8.,  5.]),\n",
       " array([ 955., 1023., 1091., 1159., 1227., 1295., 1363., 1431., 1499.,\n",
       "        1567., 1635.]),\n",
       " <a list of 10 Patch objects>)"
      ]
     },
     "execution_count": 24,
     "metadata": {},
     "output_type": "execute_result"
    },
    {
     "data": {
      "image/png": "[encoded data removed]",
      "text/plain": [
       "<Figure size 432x288 with 1 Axes>"
      ]
     },
     "metadata": {
      "needs_background": "light"
     },
     "output_type": "display_data"
    }
   ],
   "source": [
    "plt.hist(Y, bins = 10)"
   ]
  },
  {
   "cell_type": "code",
   "execution_count": 27,
   "metadata": {},
   "outputs": [
    {
     "data": {
      "text/plain": [
       "<BarContainer object of 237 artists>"
      ]
     },
     "execution_count": 27,
     "metadata": {},
     "output_type": "execute_result"
    },
    {
     "data": {
      "image/png": "[encoded data removed]",
      "text/plain": [
       "<Figure size 432x288 with 1 Axes>"
      ]
     },
     "metadata": {
      "needs_background": "light"
     },
     "output_type": "display_data"
    }
   ],
   "source": [
    "plt.bar(X, Y)"
   ]
  },
  {
   "cell_type": "code",
   "execution_count": 42,
   "metadata": {},
   "outputs": [
    {
     "data": {
      "image/png": "[encoded data removed]",
      "text/plain": [
       "<Figure size 1440x720 with 1 Axes>"
      ]
     },
     "metadata": {
      "needs_background": "light"
     },
     "output_type": "display_data"
    }
   ],
   "source": [
    "# Plotting Regression line and values\n",
    "max_X = np.max(X) + 100\n",
    "min_X = np.min(X) - 100\n",
    "\n",
    "# Calculating line values x and y\n",
    "x = np.linspace(min_X, max_X, 1000)\n",
    "y = m*x + c\n",
    "\n",
    "# Plotting line\n",
    "plt.plot(x, y, color = \"#52b920\", label = \"Regression Line\")\n",
    "\n",
    "# Plotting scatter points\n",
    "plt.scatter(X, Y, color = \"#ef4423\", label = \"Scatter Plot\")\n",
    "plt.rcParams[\"figure.figsize\"] = (20.0, 10.0)\n",
    "plt.xlabel(\"Head size in cubic cm(s)\")\n",
    "plt.ylabel(\"Brain Weight in grams\")\n",
    "plt.legend()\n",
    "plt.show()"
   ]
  }
 ],
 "metadata": {
  "kernelspec": {
   "display_name": "Python 3",
   "language": "python",
   "name": "python3"
  },
  "language_info": {
   "codemirror_mode": {
    "name": "ipython",
    "version": 3
   },
   "file_extension": ".py",
   "mimetype": "text/x-python",
   "name": "python",
   "nbconvert_exporter": "python",
   "pygments_lexer": "ipython3",
   "version": "3.7.0"
  }
 },
 "nbformat": 4,
 "nbformat_minor": 2
}
